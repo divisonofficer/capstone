{
 "cells": [
  {
   "cell_type": "code",
   "execution_count": 6,
   "metadata": {},
   "outputs": [],
   "source": [
    "import numpy as np\n",
    "import pandas as pd"
   ]
  },
  {
   "cell_type": "code",
   "execution_count": 13,
   "metadata": {},
   "outputs": [
    {
     "name": "stdout",
     "output_type": "stream",
     "text": [
      "                                               Title  Category        Date  \\\n",
      "0                           SKKU AI Colloquium  2023      [기타]  2023-09-14   \n",
      "1                     실감미디어공학과 세미나 안내 (9/14, 10:30~)  [행사/세미나]  2023-09-12   \n",
      "2                     [공개SW특강] 대규모 오픈소스 프로그램 쉽게 분석하기  [행사/세미나]  2023-09-12   \n",
      "3                           2023 국방 AI 경진대회 (MAICON)      [기타]  2023-09-11   \n",
      "4             지능형소프트웨어학과(대학원) 진학상담회 및 산학장학생 안내(9/18)  [행사/세미나]  2023-09-11   \n",
      "5                               2023년-2학기 실험실습 TA 모집   [채용/모집]  2023-09-08   \n",
      "6               디지털인재얼라이언스 가입 기업 대상 인턴십 희망 기업 안내 리스트   [채용/모집]  2023-09-07   \n",
      "7                        2023년-2학기 1만라인 TA 모집(~9/12)   [채용/모집]  2023-09-06   \n",
      "8                                   [SPARK 12기 참가모집]   [채용/모집]  2023-09-01   \n",
      "9  [성균웹진] 미국 교환학생 후기 - The University of Texas at...      [기타]  2023-08-30   \n",
      "\n",
      "                                             Content  \\\n",
      "0  SKKU AI Colloquium 2023Talking Sharing and Lea...   \n",
      "1  실감미디어공학과 세미나가 아래와 같이 개최되오니 많은 참여 부탁드립니다일시  9월 ...   \n",
      "2  공개SW 특강실습교육 대규모 오픈소스 프로그램 쉽게 분석하기대규모 오픈소스를 분석하...   \n",
      "3  정보통신기획평가원IITP에서는 국방 AI 기술 발전에 대한 국민적 관심 유도 및군내...   \n",
      "4  지능형소프트웨어학과 한마당 진학상담회 안내일반대학원 소프트웨어융합대학 지능형소프트웨...   \n",
      "5  2023학년도 2학기 실험실습 수업 진행을 위해 도와주실 튜터를 모집합니다1모집대상...   \n",
      "6  SW중심대학디지털인재얼라이언스 인턴십 협력 추진을 위한인턴십 희망 기업 안내 인턴십...   \n",
      "7  2023학년도 2학기 1만라인 수업 진행을 위해 도와주실 TA를 모집합니다1모집대상...   \n",
      "8  SPARK 12기 참가모집좋은 아이디어로 창업을 꿈꾸거나 시제품을 개발하고 싶은 S...   \n",
      "9   2022년 7월 26일 출국 8월 22일 학기 시작 2023년 5월 1일 학기 종...   \n",
      "\n",
      "                                                 Url  \n",
      "0  https://sw.skku.edu/sw/notice.do?mode=view&art...  \n",
      "1  https://sw.skku.edu/sw/notice.do?mode=view&art...  \n",
      "2  https://sw.skku.edu/sw/notice.do?mode=view&art...  \n",
      "3  https://sw.skku.edu/sw/notice.do?mode=view&art...  \n",
      "4  https://sw.skku.edu/sw/notice.do?mode=view&art...  \n",
      "5  https://sw.skku.edu/sw/notice.do?mode=view&art...  \n",
      "6  https://sw.skku.edu/sw/notice.do?mode=view&art...  \n",
      "7  https://sw.skku.edu/sw/notice.do?mode=view&art...  \n",
      "8  https://sw.skku.edu/sw/notice.do?mode=view&art...  \n",
      "9  https://sw.skku.edu/sw/notice.do?mode=view&art...  \n"
     ]
    }
   ],
   "source": [
    "import pandas as pd\n",
    "\n",
    "# Specify your file path\n",
    "file_path = '../crawling/file_content_list.csv'\n",
    "\n",
    "# Read the CSV file into a DataFrame\n",
    "df = pd.read_csv(file_path)\n",
    "df = df.dropna(subset=['Content'])\n",
    "\n",
    "# Display the first few rows of the DataFrame\n",
    "print(df.head(10))\n"
   ]
  },
  {
   "cell_type": "code",
   "execution_count": 8,
   "metadata": {},
   "outputs": [],
   "source": [
    "import numpy as np\n",
    "import torch\n",
    "from transformers import BertTokenizer, BertModel\n",
    "import faiss"
   ]
  },
  {
   "cell_type": "code",
   "execution_count": 9,
   "metadata": {},
   "outputs": [],
   "source": [
    "# 2. Vectorize Korean text columns using KoBERT\n",
    "class KoBertEmbedding:\n",
    "    def __init__(self):\n",
    "        self.tokenizer = BertTokenizer.from_pretrained('monologg/kobert')\n",
    "        self.model = BertModel.from_pretrained('monologg/kobert')\n",
    "        self.model.eval()\n",
    "\n",
    "    def get_embedding(self, text):\n",
    "        inputs = self.tokenizer(text, return_tensors=\"pt\", truncation=True, padding=True, max_length=128)\n",
    "        with torch.no_grad():\n",
    "            outputs = self.model(**inputs)\n",
    "        return outputs['last_hidden_state'][:,0,:].numpy()\n"
   ]
  },
  {
   "cell_type": "code",
   "execution_count": 12,
   "metadata": {},
   "outputs": [
    {
     "name": "stdout",
     "output_type": "stream",
     "text": [
      "실감미디어공학과 세미나가 아래와 같이 개최되오니 많은 참여 부탁드립니다일시  9월 14일 목 1330장소  국제관 9B312호강연제목  Understanding Human in the 3D Space강연자  문경식 MetaPostdoctoral Research ScientistZOOM  ID 591 389 1581  PW 908353\n"
     ]
    }
   ],
   "source": [
    "print(df[\"Content\"])"
   ]
  },
  {
   "cell_type": "code",
   "execution_count": 14,
   "metadata": {},
   "outputs": [],
   "source": [
    "# Vectorize using KoBERT\n",
    "kobert = KoBertEmbedding()\n",
    "\n",
    "df[\"Vectors\"] = df[\"Content\"].apply(kobert.get_embedding)\n",
    "vectors = np.vstack(df[\"Vectors\"].values)\n",
    "\n",
    "# 3. Create a Faiss index and add the vectors\n",
    "d = vectors.shape[1]\n",
    "index = faiss.IndexFlatL2(d)\n",
    "index.add(vectors)"
   ]
  },
  {
   "cell_type": "code",
   "execution_count": 23,
   "metadata": {},
   "outputs": [],
   "source": [
    "def search_k_nearest(text, K=10):\n",
    "    vector = kobert.get_embedding(text)\n",
    "    distances, indices = index.search(vector, K)\n",
    "    for i in range(K):\n",
    "        print(f\"Rank {i+1}: {df.iloc[indices[0][i]]['Title']} (Distance: {distances[0][i]:.4f})\")\n"
   ]
  },
  {
   "cell_type": "code",
   "execution_count": 24,
   "metadata": {},
   "outputs": [
    {
     "name": "stdout",
     "output_type": "stream",
     "text": [
      "Rank 1: [펄어비스] 2022 펄어비스 채용연계형 겨울인턴십 (10.15(토)~11.06(일)) (Distance: 0.0000)\n",
      "Rank 2: 2022년 산학협력프로젝트 참여 신청 공고~4/7(목)까지 (Distance: 0.0000)\n",
      "Rank 3: 현대자동차 SW/데이터 엔지니어 신입 채용(~5/1) (Distance: 13.6295)\n",
      "Rank 4: ㈜로보티즈 웹 개발 외 채용 (Distance: 13.6295)\n",
      "Rank 5: [대한상공회의소] 2022년 신입직원 채용 (~10/1(금)) (Distance: 13.6295)\n",
      "Rank 6: [그래피카] 그래피카 채용 공고 (Distance: 13.6295)\n",
      "Rank 7: [한화큐셀] Q-Global Talent 전형 대상 채용연계형 인턴 모집 공고(~10/25) (Distance: 21.3632)\n",
      "Rank 8: [컴투스홀딩스] 산업기능요원 채용 (Distance: 21.3632)\n",
      "Rank 9: LG유플러스 21년 하반기 CTO 신입 개발자 수시채용(~21.12.15 :11:00까지) (Distance: 21.3632)\n",
      "Rank 10: [넷마블네오]2021년 신입공개채용 모집(~10/11 17:00까지) (Distance: 21.3632)\n"
     ]
    }
   ],
   "source": [
    "search_k_nearest(\"학사 일정\")"
   ]
  }
 ],
 "metadata": {
  "kernelspec": {
   "display_name": "Python 3 (ipykernel)",
   "language": "python",
   "name": "python3"
  },
  "language_info": {
   "codemirror_mode": {
    "name": "ipython",
    "version": 3
   },
   "file_extension": ".py",
   "mimetype": "text/x-python",
   "name": "python",
   "nbconvert_exporter": "python",
   "pygments_lexer": "ipython3",
   "version": "3.8.10"
  }
 },
 "nbformat": 4,
 "nbformat_minor": 4
}
